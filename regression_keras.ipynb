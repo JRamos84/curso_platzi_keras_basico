{
  "nbformat": 4,
  "nbformat_minor": 0,
  "metadata": {
    "colab": {
      "provenance": [],
      "authorship_tag": "ABX9TyPC/EJo35RLBA2sAk43E2aO",
      "include_colab_link": true
    },
    "kernelspec": {
      "name": "python3",
      "display_name": "Python 3"
    },
    "language_info": {
      "name": "python"
    }
  },
  "cells": [
    {
      "cell_type": "markdown",
      "metadata": {
        "id": "view-in-github",
        "colab_type": "text"
      },
      "source": [
        "<a href=\"https://colab.research.google.com/github/JRamos84/curso_platzi_keras_basico/blob/main/regression_keras.ipynb\" target=\"_parent\"><img src=\"https://colab.research.google.com/assets/colab-badge.svg\" alt=\"Open In Colab\"/></a>"
      ]
    },
    {
      "cell_type": "code",
      "execution_count": null,
      "metadata": {
        "id": "xhXoApT3b7iw"
      },
      "outputs": [],
      "source": [
        "import pandas as pd\n",
        "import numpy as np\n",
        "from keras.datasets import boston_housing\n",
        "from keras import layers, models, optimizers"
      ]
    },
    {
      "cell_type": "code",
      "source": [
        "(train_data, train_targets), (test_data, test_targets) = boston_housing.load_data()"
      ],
      "metadata": {
        "id": "wwzd_6aQca_x"
      },
      "execution_count": null,
      "outputs": []
    },
    {
      "cell_type": "code",
      "source": [
        "train_data.shape"
      ],
      "metadata": {
        "colab": {
          "base_uri": "https://localhost:8080/"
        },
        "id": "5bltx6jVceq5",
        "outputId": "9ae0e5ec-0a30-49fa-d950-99917b15febc"
      },
      "execution_count": null,
      "outputs": [
        {
          "output_type": "execute_result",
          "data": {
            "text/plain": [
              "(404, 13)"
            ]
          },
          "metadata": {},
          "execution_count": 11
        }
      ]
    },
    {
      "cell_type": "code",
      "source": [
        "train_targets.shape\n"
      ],
      "metadata": {
        "colab": {
          "base_uri": "https://localhost:8080/"
        },
        "id": "6SlfWmpBcli5",
        "outputId": "76f297a1-f2ff-4208-b740-b9c5ce6e407f"
      },
      "execution_count": null,
      "outputs": [
        {
          "output_type": "execute_result",
          "data": {
            "text/plain": [
              "(404,)"
            ]
          },
          "metadata": {},
          "execution_count": 12
        }
      ]
    },
    {
      "cell_type": "code",
      "source": [
        "mean  = train_data.mean(axis=0)\n",
        "std = train_data.std(axis=0)\n",
        "train_data -= (train_data -mean) / std\n",
        "test_data -= (test_data - mean) / std"
      ],
      "metadata": {
        "id": "4G2wSye5cskw"
      },
      "execution_count": null,
      "outputs": []
    },
    {
      "cell_type": "code",
      "source": [
        "def build_model_regression(lr_var,input_shape):\n",
        "  model = models.Sequential()\n",
        "  model.add(layers.Dense(64,activation='relu', input_shape=(input_shape,)))\n",
        "  model.add(layers.Dense(64,activation='relu'))\n",
        "  model.add(layers.Dense(1))\n",
        "  model.compile(optimizer=optimizers.RMSprop(lr=lr_var), loss='mse', metrics=['mae'])\n",
        "  return model"
      ],
      "metadata": {
        "id": "l1XZeAQ3dPvY"
      },
      "execution_count": null,
      "outputs": []
    },
    {
      "cell_type": "code",
      "source": [
        "k = 4\n",
        "num_val_samples = len(train_data) // k\n",
        "num_epochs = 80\n",
        "all_history = []\n"
      ],
      "metadata": {
        "id": "Yympfm30dvGC"
      },
      "execution_count": null,
      "outputs": []
    },
    {
      "cell_type": "code",
      "source": [
        "valor = 2\n",
        "(valor) * num_val_samples\n"
      ],
      "metadata": {
        "colab": {
          "base_uri": "https://localhost:8080/"
        },
        "id": "FwctHbS4edPg",
        "outputId": "b54b4b96-c350-48f4-afac-0f4c907033e4"
      },
      "execution_count": null,
      "outputs": [
        {
          "output_type": "execute_result",
          "data": {
            "text/plain": [
              "202"
            ]
          },
          "metadata": {},
          "execution_count": 23
        }
      ]
    },
    {
      "cell_type": "code",
      "source": [
        "for i in range(k):\n",
        "  print('Fold:', i)\n",
        "  val_data = train_data[i * num_val_samples: (i + 1) * num_val_samples]\n",
        "  val_targets = train_targets[i * num_val_samples: (i + 1) * num_val_samples]\n",
        "  partial_train_data = np.concatenate([train_data[:i * num_val_samples], train_data[(i + 1) * num_val_samples:]], axis=0)\n",
        "  partial_train_targets = np.concatenate([train_targets[:i * num_val_samples], train_targets[(i + 1) * num_val_samples:]], axis=0)\n",
        "  model = build_model_regression(0.001,13)\n",
        "  history = model.fit(partial_train_data, partial_train_targets, epochs=num_epochs, batch_size=1, verbose=16, validation_data=(val_data, val_targets))\n",
        "  all_history.append(history.history['val_mae'])"
      ],
      "metadata": {
        "colab": {
          "base_uri": "https://localhost:8080/"
        },
        "id": "EzVcnWU3e4LW",
        "outputId": "ebb6e5c0-b7b3-4585-cd8d-57471b73e847"
      },
      "execution_count": null,
      "outputs": [
        {
          "output_type": "stream",
          "name": "stderr",
          "text": [
            "WARNING:absl:`lr` is deprecated in Keras optimizer, please use `learning_rate` or use the legacy optimizer, e.g.,tf.keras.optimizers.legacy.RMSprop.\n"
          ]
        },
        {
          "output_type": "stream",
          "name": "stdout",
          "text": [
            "Fold: 0\n",
            "Epoch 1/80\n",
            "Epoch 2/80\n",
            "Epoch 3/80\n",
            "Epoch 4/80\n",
            "Epoch 5/80\n",
            "Epoch 6/80\n",
            "Epoch 7/80\n",
            "Epoch 8/80\n",
            "Epoch 9/80\n",
            "Epoch 10/80\n",
            "Epoch 11/80\n",
            "Epoch 12/80\n",
            "Epoch 13/80\n",
            "Epoch 14/80\n",
            "Epoch 15/80\n",
            "Epoch 16/80\n",
            "Epoch 17/80\n",
            "Epoch 18/80\n",
            "Epoch 19/80\n",
            "Epoch 20/80\n",
            "Epoch 21/80\n",
            "Epoch 22/80\n",
            "Epoch 23/80\n",
            "Epoch 24/80\n",
            "Epoch 25/80\n",
            "Epoch 26/80\n",
            "Epoch 27/80\n",
            "Epoch 28/80\n",
            "Epoch 29/80\n",
            "Epoch 30/80\n",
            "Epoch 31/80\n",
            "Epoch 32/80\n",
            "Epoch 33/80\n",
            "Epoch 34/80\n",
            "Epoch 35/80\n",
            "Epoch 36/80\n",
            "Epoch 37/80\n",
            "Epoch 38/80\n",
            "Epoch 39/80\n",
            "Epoch 40/80\n",
            "Epoch 41/80\n",
            "Epoch 42/80\n",
            "Epoch 43/80\n",
            "Epoch 44/80\n",
            "Epoch 45/80\n",
            "Epoch 46/80\n",
            "Epoch 47/80\n",
            "Epoch 48/80\n",
            "Epoch 49/80\n",
            "Epoch 50/80\n",
            "Epoch 51/80\n",
            "Epoch 52/80\n",
            "Epoch 53/80\n",
            "Epoch 54/80\n",
            "Epoch 55/80\n",
            "Epoch 56/80\n",
            "Epoch 57/80\n",
            "Epoch 58/80\n",
            "Epoch 59/80\n",
            "Epoch 60/80\n",
            "Epoch 61/80\n",
            "Epoch 62/80\n",
            "Epoch 63/80\n",
            "Epoch 64/80\n",
            "Epoch 65/80\n",
            "Epoch 66/80\n",
            "Epoch 67/80\n",
            "Epoch 68/80\n",
            "Epoch 69/80\n",
            "Epoch 70/80\n",
            "Epoch 71/80\n",
            "Epoch 72/80\n",
            "Epoch 73/80\n",
            "Epoch 74/80\n",
            "Epoch 75/80\n",
            "Epoch 76/80\n",
            "Epoch 77/80\n",
            "Epoch 78/80\n",
            "Epoch 79/80\n",
            "Epoch 80/80\n"
          ]
        },
        {
          "output_type": "stream",
          "name": "stderr",
          "text": [
            "WARNING:absl:`lr` is deprecated in Keras optimizer, please use `learning_rate` or use the legacy optimizer, e.g.,tf.keras.optimizers.legacy.RMSprop.\n"
          ]
        },
        {
          "output_type": "stream",
          "name": "stdout",
          "text": [
            "Fold: 1\n",
            "Epoch 1/80\n",
            "Epoch 2/80\n",
            "Epoch 3/80\n",
            "Epoch 4/80\n",
            "Epoch 5/80\n",
            "Epoch 6/80\n",
            "Epoch 7/80\n",
            "Epoch 8/80\n",
            "Epoch 9/80\n",
            "Epoch 10/80\n",
            "Epoch 11/80\n",
            "Epoch 12/80\n",
            "Epoch 13/80\n",
            "Epoch 14/80\n",
            "Epoch 15/80\n",
            "Epoch 16/80\n",
            "Epoch 17/80\n",
            "Epoch 18/80\n",
            "Epoch 19/80\n",
            "Epoch 20/80\n",
            "Epoch 21/80\n",
            "Epoch 22/80\n",
            "Epoch 23/80\n",
            "Epoch 24/80\n",
            "Epoch 25/80\n",
            "Epoch 26/80\n",
            "Epoch 27/80\n",
            "Epoch 28/80\n",
            "Epoch 29/80\n",
            "Epoch 30/80\n",
            "Epoch 31/80\n",
            "Epoch 32/80\n",
            "Epoch 33/80\n",
            "Epoch 34/80\n",
            "Epoch 35/80\n",
            "Epoch 36/80\n",
            "Epoch 37/80\n",
            "Epoch 38/80\n",
            "Epoch 39/80\n",
            "Epoch 40/80\n",
            "Epoch 41/80\n",
            "Epoch 42/80\n",
            "Epoch 43/80\n",
            "Epoch 44/80\n",
            "Epoch 45/80\n",
            "Epoch 46/80\n",
            "Epoch 47/80\n",
            "Epoch 48/80\n",
            "Epoch 49/80\n",
            "Epoch 50/80\n",
            "Epoch 51/80\n",
            "Epoch 52/80\n",
            "Epoch 53/80\n",
            "Epoch 54/80\n",
            "Epoch 55/80\n",
            "Epoch 56/80\n",
            "Epoch 57/80\n",
            "Epoch 58/80\n",
            "Epoch 59/80\n",
            "Epoch 60/80\n",
            "Epoch 61/80\n",
            "Epoch 62/80\n",
            "Epoch 63/80\n",
            "Epoch 64/80\n",
            "Epoch 65/80\n",
            "Epoch 66/80\n",
            "Epoch 67/80\n",
            "Epoch 68/80\n",
            "Epoch 69/80\n",
            "Epoch 70/80\n",
            "Epoch 71/80\n",
            "Epoch 72/80\n",
            "Epoch 73/80\n",
            "Epoch 74/80\n",
            "Epoch 75/80\n",
            "Epoch 76/80\n",
            "Epoch 77/80\n",
            "Epoch 78/80\n",
            "Epoch 79/80\n",
            "Epoch 80/80\n"
          ]
        },
        {
          "output_type": "stream",
          "name": "stderr",
          "text": [
            "WARNING:absl:`lr` is deprecated in Keras optimizer, please use `learning_rate` or use the legacy optimizer, e.g.,tf.keras.optimizers.legacy.RMSprop.\n"
          ]
        },
        {
          "output_type": "stream",
          "name": "stdout",
          "text": [
            "Fold: 2\n",
            "Epoch 1/80\n",
            "Epoch 2/80\n",
            "Epoch 3/80\n",
            "Epoch 4/80\n",
            "Epoch 5/80\n",
            "Epoch 6/80\n",
            "Epoch 7/80\n",
            "Epoch 8/80\n",
            "Epoch 9/80\n",
            "Epoch 10/80\n",
            "Epoch 11/80\n",
            "Epoch 12/80\n",
            "Epoch 13/80\n",
            "Epoch 14/80\n",
            "Epoch 15/80\n",
            "Epoch 16/80\n",
            "Epoch 17/80\n",
            "Epoch 18/80\n",
            "Epoch 19/80\n",
            "Epoch 20/80\n",
            "Epoch 21/80\n",
            "Epoch 22/80\n",
            "Epoch 23/80\n",
            "Epoch 24/80\n",
            "Epoch 25/80\n",
            "Epoch 26/80\n",
            "Epoch 27/80\n",
            "Epoch 28/80\n",
            "Epoch 29/80\n",
            "Epoch 30/80\n",
            "Epoch 31/80\n",
            "Epoch 32/80\n",
            "Epoch 33/80\n",
            "Epoch 34/80\n",
            "Epoch 35/80\n",
            "Epoch 36/80\n",
            "Epoch 37/80\n",
            "Epoch 38/80\n",
            "Epoch 39/80\n",
            "Epoch 40/80\n",
            "Epoch 41/80\n",
            "Epoch 42/80\n",
            "Epoch 43/80\n",
            "Epoch 44/80\n",
            "Epoch 45/80\n",
            "Epoch 46/80\n",
            "Epoch 47/80\n",
            "Epoch 48/80\n",
            "Epoch 49/80\n",
            "Epoch 50/80\n",
            "Epoch 51/80\n",
            "Epoch 52/80\n",
            "Epoch 53/80\n",
            "Epoch 54/80\n",
            "Epoch 55/80\n",
            "Epoch 56/80\n",
            "Epoch 57/80\n",
            "Epoch 58/80\n",
            "Epoch 59/80\n",
            "Epoch 60/80\n",
            "Epoch 61/80\n",
            "Epoch 62/80\n",
            "Epoch 63/80\n",
            "Epoch 64/80\n",
            "Epoch 65/80\n",
            "Epoch 66/80\n",
            "Epoch 67/80\n",
            "Epoch 68/80\n",
            "Epoch 69/80\n",
            "Epoch 70/80\n",
            "Epoch 71/80\n",
            "Epoch 72/80\n",
            "Epoch 73/80\n",
            "Epoch 74/80\n",
            "Epoch 75/80\n",
            "Epoch 76/80\n",
            "Epoch 77/80\n",
            "Epoch 78/80\n",
            "Epoch 79/80\n",
            "Epoch 80/80\n"
          ]
        },
        {
          "output_type": "stream",
          "name": "stderr",
          "text": [
            "WARNING:absl:`lr` is deprecated in Keras optimizer, please use `learning_rate` or use the legacy optimizer, e.g.,tf.keras.optimizers.legacy.RMSprop.\n"
          ]
        },
        {
          "output_type": "stream",
          "name": "stdout",
          "text": [
            "Fold: 3\n",
            "Epoch 1/80\n",
            "Epoch 2/80\n",
            "Epoch 3/80\n",
            "Epoch 4/80\n",
            "Epoch 5/80\n",
            "Epoch 6/80\n",
            "Epoch 7/80\n",
            "Epoch 8/80\n",
            "Epoch 9/80\n",
            "Epoch 10/80\n",
            "Epoch 11/80\n",
            "Epoch 12/80\n",
            "Epoch 13/80\n",
            "Epoch 14/80\n",
            "Epoch 15/80\n",
            "Epoch 16/80\n",
            "Epoch 17/80\n",
            "Epoch 18/80\n",
            "Epoch 19/80\n",
            "Epoch 20/80\n",
            "Epoch 21/80\n",
            "Epoch 22/80\n",
            "Epoch 23/80\n",
            "Epoch 24/80\n",
            "Epoch 25/80\n",
            "Epoch 26/80\n",
            "Epoch 27/80\n",
            "Epoch 28/80\n",
            "Epoch 29/80\n",
            "Epoch 30/80\n",
            "Epoch 31/80\n",
            "Epoch 32/80\n",
            "Epoch 33/80\n",
            "Epoch 34/80\n",
            "Epoch 35/80\n",
            "Epoch 36/80\n",
            "Epoch 37/80\n",
            "Epoch 38/80\n",
            "Epoch 39/80\n",
            "Epoch 40/80\n",
            "Epoch 41/80\n",
            "Epoch 42/80\n",
            "Epoch 43/80\n",
            "Epoch 44/80\n",
            "Epoch 45/80\n",
            "Epoch 46/80\n",
            "Epoch 47/80\n",
            "Epoch 48/80\n",
            "Epoch 49/80\n",
            "Epoch 50/80\n",
            "Epoch 51/80\n",
            "Epoch 52/80\n",
            "Epoch 53/80\n",
            "Epoch 54/80\n",
            "Epoch 55/80\n",
            "Epoch 56/80\n",
            "Epoch 57/80\n",
            "Epoch 58/80\n",
            "Epoch 59/80\n",
            "Epoch 60/80\n",
            "Epoch 61/80\n",
            "Epoch 62/80\n",
            "Epoch 63/80\n",
            "Epoch 64/80\n",
            "Epoch 65/80\n",
            "Epoch 66/80\n",
            "Epoch 67/80\n",
            "Epoch 68/80\n",
            "Epoch 69/80\n",
            "Epoch 70/80\n",
            "Epoch 71/80\n",
            "Epoch 72/80\n",
            "Epoch 73/80\n",
            "Epoch 74/80\n",
            "Epoch 75/80\n",
            "Epoch 76/80\n",
            "Epoch 77/80\n",
            "Epoch 78/80\n",
            "Epoch 79/80\n",
            "Epoch 80/80\n"
          ]
        }
      ]
    },
    {
      "cell_type": "code",
      "source": [
        "all_mean_avg = pd.DataFrame(all_history).mean(axis=0)"
      ],
      "metadata": {
        "id": "F10ux8e3hHTz"
      },
      "execution_count": null,
      "outputs": []
    },
    {
      "cell_type": "code",
      "source": [
        "import matplotlib.pyplot as plt\n",
        "plt.plot(range(1, len(all_mean_avg) + 1), all_mean_avg)\n",
        "plt.xlabel('Epochs')\n",
        "plt.ylabel('Validation MAE')\n",
        "plt.show()"
      ],
      "metadata": {
        "colab": {
          "base_uri": "https://localhost:8080/",
          "height": 449
        },
        "id": "362aLR_Gh0yS",
        "outputId": "f35999c0-c69c-427b-b28d-633b4df348a5"
      },
      "execution_count": null,
      "outputs": [
        {
          "output_type": "display_data",
          "data": {
            "text/plain": [
              "<Figure size 640x480 with 1 Axes>"
            ],
            "image/png": "[encoded data removed]"
          },
          "metadata": {}
        }
      ]
    },
    {
      "cell_type": "code",
      "source": [
        "model.evaluate(test_data, test_targets)"
      ],
      "metadata": {
        "id": "bbfJprqUigKh",
        "outputId": "1b5a02fa-4a94-40e5-e532-43c6d8ad3cc1",
        "colab": {
          "base_uri": "https://localhost:8080/"
        }
      },
      "execution_count": null,
      "outputs": [
        {
          "output_type": "stream",
          "name": "stdout",
          "text": [
            "4/4 [==============================] - 1s 8ms/step - loss: 39.6046 - mae: 4.2562\n"
          ]
        },
        {
          "output_type": "execute_result",
          "data": {
            "text/plain": [
              "[39.60456466674805, 4.25621223449707]"
            ]
          },
          "metadata": {},
          "execution_count": 34
        }
      ]
    }
  ]
}